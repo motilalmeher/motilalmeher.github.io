{
 "cells": [
  {
   "cell_type": "code",
   "execution_count": 5,
   "id": "bearing-apparel",
   "metadata": {},
   "outputs": [],
   "source": [
    "from email.mime.multipart import MIMEMultipart\n",
    "from email.mime.audio import MIMEAudio\n",
    "from email.mime.base import MIMEBase\n",
    "from email.mime.image import MIMEImage\n",
    "from email.mime.text import MIMEText\n",
    "from email import encoders\n",
    "import smtplib   \n",
    "import smtplib\n",
    "from google.cloud import storage\n",
    "import json\n",
    "#import sendgrid\n",
    "import os\n",
    "#from sendgrid.helpers.mail import *"
   ]
  },
  {
   "cell_type": "code",
   "execution_count": 13,
   "id": "entire-margin",
   "metadata": {},
   "outputs": [],
   "source": [
    "to='motilalmeher9@gmail.com'\n",
    "fromemail='motilalmeher11@gmail.com'\n",
    "password='Motiminku69#'\n",
    "\n",
    "   \n",
    "def sendmail(body,subject,file,path,bucket):\n",
    "    msg = MIMEMultipart()\n",
    "    msg[\"From\"] = fromemail\n",
    "    msg[\"To\"] = to\n",
    "    msg[\"Subject\"] = subject\n",
    "\n",
    "    #bucket = self.client.get_bucket(bucket)\n",
    "    #blob = storage.Blob(path+file, bucket)\n",
    "    #content = blob.download_as_string()\n",
    "\n",
    "    maintype='application'\n",
    "    subtype='vnd.ms-excel'\n",
    "    #attachment = MIMEBase(maintype, subtype)\n",
    "    #attachment.set_payload(content)\n",
    "    #encoders.encode_base64(attachment)\n",
    "    #attachment.add_header(\"Content-Disposition\", \"attachment\", filename=file)\n",
    "    msg.attach(body)\n",
    "    #msg.attach(attachment)\n",
    "\n",
    "    mailserver = smtplib.SMTP('smtp.gmail.com:587')\n",
    "    mailserver.ehlo()\n",
    "    mailserver.starttls()\n",
    "    mailserver.ehlo()  #again\n",
    "    mailserver.login(fromemail,password)\n",
    "    mailserver.sendmail(fromemail,to, msg.as_string())\n",
    "    mailserver.quit()"
   ]
  },
  {
   "cell_type": "code",
   "execution_count": 14,
   "id": "sapphire-treaty",
   "metadata": {},
   "outputs": [
    {
     "ename": "SMTPAuthenticationError",
     "evalue": "(535, b'5.7.8 Username and Password not accepted. Learn more at\\n5.7.8  https://support.google.com/mail/?p=BadCredentials k20sm14864307pfa.34 - gsmtp')",
     "output_type": "error",
     "traceback": [
      "\u001b[0;31m---------------------------------------------------------------------------\u001b[0m",
      "\u001b[0;31mSMTPAuthenticationError\u001b[0m                   Traceback (most recent call last)",
      "\u001b[0;32m<ipython-input-14-c0352ed36aff>\u001b[0m in \u001b[0;36m<module>\u001b[0;34m\u001b[0m\n\u001b[0;32m----> 1\u001b[0;31m \u001b[0msendmail\u001b[0m\u001b[0;34m(\u001b[0m\u001b[0;34m'hello'\u001b[0m\u001b[0;34m,\u001b[0m\u001b[0;34m'subject'\u001b[0m\u001b[0;34m,\u001b[0m\u001b[0;34m'file'\u001b[0m\u001b[0;34m,\u001b[0m\u001b[0;34m'path'\u001b[0m\u001b[0;34m,\u001b[0m\u001b[0;34m'bucket'\u001b[0m\u001b[0;34m)\u001b[0m\u001b[0;34m\u001b[0m\u001b[0;34m\u001b[0m\u001b[0m\n\u001b[0m",
      "\u001b[0;32m<ipython-input-13-c0ed0033499e>\u001b[0m in \u001b[0;36msendmail\u001b[0;34m(body, subject, file, path, bucket)\u001b[0m\n\u001b[1;32m     27\u001b[0m     \u001b[0mmailserver\u001b[0m\u001b[0;34m.\u001b[0m\u001b[0mstarttls\u001b[0m\u001b[0;34m(\u001b[0m\u001b[0;34m)\u001b[0m\u001b[0;34m\u001b[0m\u001b[0;34m\u001b[0m\u001b[0m\n\u001b[1;32m     28\u001b[0m     \u001b[0mmailserver\u001b[0m\u001b[0;34m.\u001b[0m\u001b[0mehlo\u001b[0m\u001b[0;34m(\u001b[0m\u001b[0;34m)\u001b[0m  \u001b[0;31m#again\u001b[0m\u001b[0;34m\u001b[0m\u001b[0;34m\u001b[0m\u001b[0m\n\u001b[0;32m---> 29\u001b[0;31m     \u001b[0mmailserver\u001b[0m\u001b[0;34m.\u001b[0m\u001b[0mlogin\u001b[0m\u001b[0;34m(\u001b[0m\u001b[0mfromemail\u001b[0m\u001b[0;34m,\u001b[0m\u001b[0mpassword\u001b[0m\u001b[0;34m)\u001b[0m\u001b[0;34m\u001b[0m\u001b[0;34m\u001b[0m\u001b[0m\n\u001b[0m\u001b[1;32m     30\u001b[0m     \u001b[0mmailserver\u001b[0m\u001b[0;34m.\u001b[0m\u001b[0msendmail\u001b[0m\u001b[0;34m(\u001b[0m\u001b[0mfromemail\u001b[0m\u001b[0;34m,\u001b[0m\u001b[0mto\u001b[0m\u001b[0;34m,\u001b[0m \u001b[0mmsg\u001b[0m\u001b[0;34m.\u001b[0m\u001b[0mas_string\u001b[0m\u001b[0;34m(\u001b[0m\u001b[0;34m)\u001b[0m\u001b[0;34m)\u001b[0m\u001b[0;34m\u001b[0m\u001b[0;34m\u001b[0m\u001b[0m\n\u001b[1;32m     31\u001b[0m     \u001b[0mmailserver\u001b[0m\u001b[0;34m.\u001b[0m\u001b[0mquit\u001b[0m\u001b[0;34m(\u001b[0m\u001b[0;34m)\u001b[0m\u001b[0;34m\u001b[0m\u001b[0;34m\u001b[0m\u001b[0m\n",
      "\u001b[0;32m/opt/conda/lib/python3.7/smtplib.py\u001b[0m in \u001b[0;36mlogin\u001b[0;34m(self, user, password, initial_response_ok)\u001b[0m\n\u001b[1;32m    728\u001b[0m \u001b[0;34m\u001b[0m\u001b[0m\n\u001b[1;32m    729\u001b[0m         \u001b[0;31m# We could not login successfully.  Return result of last attempt.\u001b[0m\u001b[0;34m\u001b[0m\u001b[0;34m\u001b[0m\u001b[0;34m\u001b[0m\u001b[0m\n\u001b[0;32m--> 730\u001b[0;31m         \u001b[0;32mraise\u001b[0m \u001b[0mlast_exception\u001b[0m\u001b[0;34m\u001b[0m\u001b[0;34m\u001b[0m\u001b[0m\n\u001b[0m\u001b[1;32m    731\u001b[0m \u001b[0;34m\u001b[0m\u001b[0m\n\u001b[1;32m    732\u001b[0m     \u001b[0;32mdef\u001b[0m \u001b[0mstarttls\u001b[0m\u001b[0;34m(\u001b[0m\u001b[0mself\u001b[0m\u001b[0;34m,\u001b[0m \u001b[0mkeyfile\u001b[0m\u001b[0;34m=\u001b[0m\u001b[0;32mNone\u001b[0m\u001b[0;34m,\u001b[0m \u001b[0mcertfile\u001b[0m\u001b[0;34m=\u001b[0m\u001b[0;32mNone\u001b[0m\u001b[0;34m,\u001b[0m \u001b[0mcontext\u001b[0m\u001b[0;34m=\u001b[0m\u001b[0;32mNone\u001b[0m\u001b[0;34m)\u001b[0m\u001b[0;34m:\u001b[0m\u001b[0;34m\u001b[0m\u001b[0;34m\u001b[0m\u001b[0m\n",
      "\u001b[0;32m/opt/conda/lib/python3.7/smtplib.py\u001b[0m in \u001b[0;36mlogin\u001b[0;34m(self, user, password, initial_response_ok)\u001b[0m\n\u001b[1;32m    719\u001b[0m                 (code, resp) = self.auth(\n\u001b[1;32m    720\u001b[0m                     \u001b[0mauthmethod\u001b[0m\u001b[0;34m,\u001b[0m \u001b[0mgetattr\u001b[0m\u001b[0;34m(\u001b[0m\u001b[0mself\u001b[0m\u001b[0;34m,\u001b[0m \u001b[0mmethod_name\u001b[0m\u001b[0;34m)\u001b[0m\u001b[0;34m,\u001b[0m\u001b[0;34m\u001b[0m\u001b[0;34m\u001b[0m\u001b[0m\n\u001b[0;32m--> 721\u001b[0;31m                     initial_response_ok=initial_response_ok)\n\u001b[0m\u001b[1;32m    722\u001b[0m                 \u001b[0;31m# 235 == 'Authentication successful'\u001b[0m\u001b[0;34m\u001b[0m\u001b[0;34m\u001b[0m\u001b[0;34m\u001b[0m\u001b[0m\n\u001b[1;32m    723\u001b[0m                 \u001b[0;31m# 503 == 'Error: already authenticated'\u001b[0m\u001b[0;34m\u001b[0m\u001b[0;34m\u001b[0m\u001b[0;34m\u001b[0m\u001b[0m\n",
      "\u001b[0;32m/opt/conda/lib/python3.7/smtplib.py\u001b[0m in \u001b[0;36mauth\u001b[0;34m(self, mechanism, authobject, initial_response_ok)\u001b[0m\n\u001b[1;32m    640\u001b[0m         \u001b[0;32mif\u001b[0m \u001b[0mcode\u001b[0m \u001b[0;32min\u001b[0m \u001b[0;34m(\u001b[0m\u001b[0;36m235\u001b[0m\u001b[0;34m,\u001b[0m \u001b[0;36m503\u001b[0m\u001b[0;34m)\u001b[0m\u001b[0;34m:\u001b[0m\u001b[0;34m\u001b[0m\u001b[0;34m\u001b[0m\u001b[0m\n\u001b[1;32m    641\u001b[0m             \u001b[0;32mreturn\u001b[0m \u001b[0;34m(\u001b[0m\u001b[0mcode\u001b[0m\u001b[0;34m,\u001b[0m \u001b[0mresp\u001b[0m\u001b[0;34m)\u001b[0m\u001b[0;34m\u001b[0m\u001b[0;34m\u001b[0m\u001b[0m\n\u001b[0;32m--> 642\u001b[0;31m         \u001b[0;32mraise\u001b[0m \u001b[0mSMTPAuthenticationError\u001b[0m\u001b[0;34m(\u001b[0m\u001b[0mcode\u001b[0m\u001b[0;34m,\u001b[0m \u001b[0mresp\u001b[0m\u001b[0;34m)\u001b[0m\u001b[0;34m\u001b[0m\u001b[0;34m\u001b[0m\u001b[0m\n\u001b[0m\u001b[1;32m    643\u001b[0m \u001b[0;34m\u001b[0m\u001b[0m\n\u001b[1;32m    644\u001b[0m     \u001b[0;32mdef\u001b[0m \u001b[0mauth_cram_md5\u001b[0m\u001b[0;34m(\u001b[0m\u001b[0mself\u001b[0m\u001b[0;34m,\u001b[0m \u001b[0mchallenge\u001b[0m\u001b[0;34m=\u001b[0m\u001b[0;32mNone\u001b[0m\u001b[0;34m)\u001b[0m\u001b[0;34m:\u001b[0m\u001b[0;34m\u001b[0m\u001b[0;34m\u001b[0m\u001b[0m\n",
      "\u001b[0;31mSMTPAuthenticationError\u001b[0m: (535, b'5.7.8 Username and Password not accepted. Learn more at\\n5.7.8  https://support.google.com/mail/?p=BadCredentials k20sm14864307pfa.34 - gsmtp')"
     ]
    }
   ],
   "source": [
    "sendmail('hello','subject','file','path','bucket')"
   ]
  },
  {
   "cell_type": "code",
   "execution_count": 29,
   "id": "graduate-motor",
   "metadata": {},
   "outputs": [],
   "source": [
    "import os\n",
    "import pandas as pd\n",
    "from googleapiclient import discovery\n",
    "import json\n",
    "model_name='chrun_1'"
   ]
  },
  {
   "cell_type": "code",
   "execution_count": 30,
   "id": "middle-metro",
   "metadata": {},
   "outputs": [],
   "source": [
    "service = discovery.build('ml', 'v1')\n",
    "name = 'projects/{}/models/{}'.format('projectmtna', model_name)"
   ]
  },
  {
   "cell_type": "code",
   "execution_count": 31,
   "id": "synthetic-prior",
   "metadata": {},
   "outputs": [],
   "source": [
    "df=pd.read_csv(\"gs://cvm_data/datasets/testing_process/data.csv\")"
   ]
  },
  {
   "cell_type": "code",
   "execution_count": 32,
   "id": "beginning-catalog",
   "metadata": {},
   "outputs": [
    {
     "data": {
      "text/plain": [
       "143"
      ]
     },
     "execution_count": 32,
     "metadata": {},
     "output_type": "execute_result"
    }
   ],
   "source": [
    "len(df.columns)"
   ]
  },
  {
   "cell_type": "code",
   "execution_count": 67,
   "id": "lined-delaware",
   "metadata": {},
   "outputs": [],
   "source": [
    "X_validation=df.drop(columns=['mobile_number','churn'])"
   ]
  },
  {
   "cell_type": "code",
   "execution_count": 68,
   "id": "prime-claim",
   "metadata": {},
   "outputs": [
    {
     "data": {
      "text/plain": [
       "141"
      ]
     },
     "execution_count": 68,
     "metadata": {},
     "output_type": "execute_result"
    }
   ],
   "source": [
    "len(X_validation.columns)"
   ]
  },
  {
   "cell_type": "code",
   "execution_count": 75,
   "id": "embedded-worth",
   "metadata": {},
   "outputs": [],
   "source": [
    "input_file = 'serving_instances.json'\n",
    "\n",
    "with open(input_file, 'w') as f:\n",
    "    for index, row in X_validation.head().iterrows():\n",
    "        f.write(json.dumps(list(row.values)))\n",
    "        f.write('\\n')"
   ]
  },
  {
   "cell_type": "code",
   "execution_count": 102,
   "id": "engaging-leone",
   "metadata": {},
   "outputs": [],
   "source": [
    "x=[]\n",
    "for index, row in X_validation.head(20).iterrows():\n",
    "    x.append(list(row.values))"
   ]
  },
  {
   "cell_type": "code",
   "execution_count": 77,
   "id": "advisory-index",
   "metadata": {},
   "outputs": [],
   "source": [
    "def predict(model_name, instances):\n",
    "    \n",
    "    service = discovery.build('ml', 'v1')\n",
    "    name = 'projects/{}/models/{}'.format('projectmtna', model_name)\n",
    "    \n",
    "\n",
    "    response = service.projects().predict(\n",
    "        name=name,\n",
    "        body={'instances': instances}\n",
    "    ).execute()\n",
    "    \n",
    "    if 'error' in response:\n",
    "        raise RuntimeError(response['error'])\n",
    "\n",
    "    return response['predictions']"
   ]
  },
  {
   "cell_type": "code",
   "execution_count": 81,
   "id": "compressed-nerve",
   "metadata": {},
   "outputs": [],
   "source": [
    "predictions=predict(model_name,x)"
   ]
  },
  {
   "cell_type": "code",
   "execution_count": 89,
   "id": "ranking-blind",
   "metadata": {},
   "outputs": [],
   "source": [
    "rows = []\n",
    "\n",
    "for idx, pred in enumerate(predictions):\n",
    "    rows.append((int(df['mobile_number'][idx]), pred))"
   ]
  },
  {
   "cell_type": "code",
   "execution_count": 90,
   "id": "israeli-execution",
   "metadata": {},
   "outputs": [
    {
     "data": {
      "text/plain": [
       "[(7000436570, 1.0),\n",
       " (7001897999, 0.0),\n",
       " (7001922492, 0.0),\n",
       " (7000539299, 0.0),\n",
       " (7001492962, 0.0)]"
      ]
     },
     "execution_count": 90,
     "metadata": {},
     "output_type": "execute_result"
    }
   ],
   "source": [
    "rows"
   ]
  },
  {
   "cell_type": "code",
   "execution_count": 70,
   "id": "recognized-james",
   "metadata": {},
   "outputs": [],
   "source": [
    "response = service.projects().predict(\n",
    "        name=name,\n",
    "        body={'instances':x}\n",
    "    ).execute()"
   ]
  },
  {
   "cell_type": "code",
   "execution_count": 91,
   "id": "liked-butterfly",
   "metadata": {},
   "outputs": [
    {
     "ename": "AttributeError",
     "evalue": "'Resource' object has no attribute 'predict_proba'",
     "output_type": "error",
     "traceback": [
      "\u001b[0;31m---------------------------------------------------------------------------\u001b[0m",
      "\u001b[0;31mAttributeError\u001b[0m                            Traceback (most recent call last)",
      "\u001b[0;32m<ipython-input-91-b23a6094aa5b>\u001b[0m in \u001b[0;36m<module>\u001b[0;34m\u001b[0m\n\u001b[0;32m----> 1\u001b[0;31m response = service.projects().predict_proba(\n\u001b[0m\u001b[1;32m      2\u001b[0m         \u001b[0mname\u001b[0m\u001b[0;34m=\u001b[0m\u001b[0mname\u001b[0m\u001b[0;34m,\u001b[0m\u001b[0;34m\u001b[0m\u001b[0;34m\u001b[0m\u001b[0m\n\u001b[1;32m      3\u001b[0m         \u001b[0mbody\u001b[0m\u001b[0;34m=\u001b[0m\u001b[0;34m{\u001b[0m\u001b[0;34m'instances'\u001b[0m\u001b[0;34m:\u001b[0m\u001b[0mx\u001b[0m\u001b[0;34m}\u001b[0m\u001b[0;34m\u001b[0m\u001b[0;34m\u001b[0m\u001b[0m\n\u001b[1;32m      4\u001b[0m     ).execute()\n",
      "\u001b[0;31mAttributeError\u001b[0m: 'Resource' object has no attribute 'predict_proba'"
     ]
    }
   ],
   "source": [
    "response = service.projects().predict_proba(\n",
    "        name=name,\n",
    "        body={'instances':x}\n",
    "    ).execute()"
   ]
  },
  {
   "cell_type": "code",
   "execution_count": null,
   "id": "persistent-deviation",
   "metadata": {},
   "outputs": [],
   "source": []
  },
  {
   "cell_type": "code",
   "execution_count": 76,
   "id": "dramatic-graph",
   "metadata": {},
   "outputs": [
    {
     "name": "stdout",
     "output_type": "stream",
     "text": [
      "Using endpoint [https://ml.googleapis.com/]\n",
      "[1.0, 0.0, 0.0, 0.0, 0.0]\n"
     ]
    }
   ],
   "source": [
    "!gcloud ai-platform predict \\\n",
    "--model $model_name \\\n",
    "--json-instances $input_file\\\n",
    "--region global"
   ]
  },
  {
   "cell_type": "code",
   "execution_count": 71,
   "id": "excited-jacob",
   "metadata": {},
   "outputs": [
    {
     "data": {
      "text/plain": [
       "{'predictions': [1.0, 0.0, 0.0, 0.0, 0.0]}"
      ]
     },
     "execution_count": 71,
     "metadata": {},
     "output_type": "execute_result"
    }
   ],
   "source": [
    "response"
   ]
  },
  {
   "cell_type": "code",
   "execution_count": 95,
   "id": "encouraging-arrival",
   "metadata": {},
   "outputs": [],
   "source": [
    "from google.cloud import storage\n",
    "from sklearn.externals import joblib\n",
    "\n",
    "bucket_name = \"cvm_data\"\n",
    "gs_model = \"jobdir/1ec9256e-d93b-4eb5-a6a0-b0fa69b8c797/model.pkl\"  # path in your Cloud Storage bucket\n",
    "local_model = \"model.pkl\"  # path in your local machine\n",
    "\n",
    "client = storage.Client()\n",
    "bucket = client.get_bucket(bucket_name)\n",
    "blob = bucket.blob(gs_model)\n",
    "blob.download_to_filename(local_model)"
   ]
  },
  {
   "cell_type": "code",
   "execution_count": 96,
   "id": "extra-scottish",
   "metadata": {},
   "outputs": [
    {
     "name": "stderr",
     "output_type": "stream",
     "text": [
      "/opt/conda/lib/python3.7/site-packages/sklearn/linear_model/base.py:297: RuntimeWarning: overflow encountered in exp\n",
      "  np.exp(prob, prob)\n"
     ]
    },
    {
     "data": {
      "text/plain": [
       "array([[0.00000000e+000, 1.00000000e+000],\n",
       "       [1.00000000e+000, 0.00000000e+000],\n",
       "       [1.00000000e+000, 2.84768029e-292],\n",
       "       [1.00000000e+000, 0.00000000e+000],\n",
       "       [1.00000000e+000, 0.00000000e+000]])"
      ]
     },
     "execution_count": 96,
     "metadata": {},
     "output_type": "execute_result"
    }
   ],
   "source": [
    "model = joblib.load(local_model)\n",
    "model.predict_proba(x)"
   ]
  },
  {
   "cell_type": "code",
   "execution_count": 104,
   "id": "diagnostic-given",
   "metadata": {},
   "outputs": [
    {
     "data": {
      "text/plain": [
       "array([1., 0., 0., 0., 0., 0., 0., 0., 0., 0., 0., 0., 0., 0., 0., 0., 0.,\n",
       "       0., 0., 0.])"
      ]
     },
     "execution_count": 104,
     "metadata": {},
     "output_type": "execute_result"
    }
   ],
   "source": [
    "model.predict(x)"
   ]
  },
  {
   "cell_type": "code",
   "execution_count": 103,
   "id": "after-piano",
   "metadata": {},
   "outputs": [
    {
     "data": {
      "text/plain": [
       "0.85"
      ]
     },
     "execution_count": 103,
     "metadata": {},
     "output_type": "execute_result"
    }
   ],
   "source": [
    "model.score(x,df.head(20)['churn'])"
   ]
  },
  {
   "cell_type": "code",
   "execution_count": 105,
   "id": "electric-summer",
   "metadata": {},
   "outputs": [
    {
     "data": {
      "text/plain": [
       "0     1.0\n",
       "1     0.0\n",
       "2     1.0\n",
       "3     1.0\n",
       "4     0.0\n",
       "5     0.0\n",
       "6     0.0\n",
       "7     0.0\n",
       "8     0.0\n",
       "9     0.0\n",
       "10    0.0\n",
       "11    1.0\n",
       "12    0.0\n",
       "13    0.0\n",
       "14    0.0\n",
       "15    0.0\n",
       "16    0.0\n",
       "17    0.0\n",
       "18    0.0\n",
       "19    0.0\n",
       "Name: churn, dtype: float64"
      ]
     },
     "execution_count": 105,
     "metadata": {},
     "output_type": "execute_result"
    }
   ],
   "source": [
    "df.head(20)['churn']"
   ]
  },
  {
   "cell_type": "code",
   "execution_count": null,
   "id": "duplicate-asbestos",
   "metadata": {},
   "outputs": [],
   "source": []
  }
 ],
 "metadata": {
  "environment": {
   "name": "tf2-gpu.2-4.m65",
   "type": "gcloud",
   "uri": "gcr.io/deeplearning-platform-release/tf2-gpu.2-4:m65"
  },
  "kernelspec": {
   "display_name": "Python 3",
   "language": "python",
   "name": "python3"
  },
  "language_info": {
   "codemirror_mode": {
    "name": "ipython",
    "version": 3
   },
   "file_extension": ".py",
   "mimetype": "text/x-python",
   "name": "python",
   "nbconvert_exporter": "python",
   "pygments_lexer": "ipython3",
   "version": "3.7.10"
  }
 },
 "nbformat": 4,
 "nbformat_minor": 5
}
